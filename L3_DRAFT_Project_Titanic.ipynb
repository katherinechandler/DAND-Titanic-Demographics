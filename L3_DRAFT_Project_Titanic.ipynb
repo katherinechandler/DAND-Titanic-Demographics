{
 "cells": [
  {
   "cell_type": "markdown",
   "metadata": {},
   "source": [
    "I'm going to analyze the Titanic Data for my project. First lets start by visualizing the data'"
   ]
  },
  {
   "cell_type": "code",
   "execution_count": null,
   "metadata": {
    "collapsed": true
   },
   "outputs": [],
   "source": [
    "low_class_passengers_female = low_class_passengers[low_class_passengers['Sex'] == 'female']\n",
    "low_class_passengers_survived_female = low_class_passengers[low_class_passengers['Survived'] ==1][low_class_passengers['Sex'] == 'female']\n",
    "low_class_passengers_perished_female = low_class_passengers[low_class_passengers['Survived'] ==0][low_class_passengers['Sex'] == 'female']\n",
    "\n",
    "# Let's look at siblings and spouse on-board\n",
    "print 'Mean number of Sibling / Spouse on-board for 3rd-class female passengers by port'\n",
    "print low_class_passengers_female.groupby(['Embarked'], as_index=True)['SibSp'].mean().reset_index()\n",
    "print \"\"\n",
    "print 'Mean number of Sibling / Spouse on-board for surviving 3rd-class female passengers by port'\n",
    "print low_class_passengers_survived_female.groupby(['Embarked'], as_index=True)['SibSp'].mean().reset_index()\n",
    "print \"\"\n",
    "print 'Mean number of Sibling / Spouse on-board for perished 3rd-class female passengers by port'\n",
    "print low_class_passengers_perished_female.groupby(['Embarked'], as_index=True)['SibSp'].mean().reset_index()\n",
    "print \"\"\n",
    "# Let's look at parents and children on-board\n",
    "print 'Mean number of Parents / Children on-board for 3rd-class female passengers by port'\n",
    "print low_class_passengers_female.groupby(['Embarked'], as_index=True)['Parch'].mean().reset_index()\n",
    "print \"\"\n",
    "print 'Mean number of Parents / Children on-board for surviving 3rd-class female passengers by port'\n",
    "print low_class_passengers_survived_female.groupby(['Embarked'], as_index=True)['Parch'].mean().reset_index()\n",
    "print \"\"\n",
    "print 'Mean number of Parents / Children on-board for perished 3rd-class female passengers by port'\n",
    "print low_class_passengers_perished_female.groupby(['Embarked'], as_index=True)['Parch'].mean().reset_index()"
   ]
  },
  {
   "cell_type": "code",
   "execution_count": 12,
   "metadata": {
    "collapsed": true
   },
   "outputs": [],
   "source": [
    "# loading in the Titanic data to a pandas data frame\n",
    "\n",
    "import pandas as pd\n",
    "import numpy as np\n",
    "\n",
    "titanic_df = pd.read_csv('titanic_data.csv')"
   ]
  },
  {
   "cell_type": "code",
   "execution_count": 3,
   "metadata": {},
   "outputs": [
    {
     "data": {
      "text/html": [
       "<div>\n",
       "<table border=\"1\" class=\"dataframe\">\n",
       "  <thead>\n",
       "    <tr style=\"text-align: right;\">\n",
       "      <th></th>\n",
       "      <th>PassengerId</th>\n",
       "      <th>Survived</th>\n",
       "      <th>Pclass</th>\n",
       "      <th>Name</th>\n",
       "      <th>Sex</th>\n",
       "      <th>Age</th>\n",
       "      <th>SibSp</th>\n",
       "      <th>Parch</th>\n",
       "      <th>Ticket</th>\n",
       "      <th>Fare</th>\n",
       "      <th>Cabin</th>\n",
       "      <th>Embarked</th>\n",
       "    </tr>\n",
       "  </thead>\n",
       "  <tbody>\n",
       "    <tr>\n",
       "      <th>0</th>\n",
       "      <td>1</td>\n",
       "      <td>0</td>\n",
       "      <td>3</td>\n",
       "      <td>Braund, Mr. Owen Harris</td>\n",
       "      <td>male</td>\n",
       "      <td>22.0</td>\n",
       "      <td>1</td>\n",
       "      <td>0</td>\n",
       "      <td>A/5 21171</td>\n",
       "      <td>7.2500</td>\n",
       "      <td>NaN</td>\n",
       "      <td>S</td>\n",
       "    </tr>\n",
       "    <tr>\n",
       "      <th>1</th>\n",
       "      <td>2</td>\n",
       "      <td>1</td>\n",
       "      <td>1</td>\n",
       "      <td>Cumings, Mrs. John Bradley (Florence Briggs Th...</td>\n",
       "      <td>female</td>\n",
       "      <td>38.0</td>\n",
       "      <td>1</td>\n",
       "      <td>0</td>\n",
       "      <td>PC 17599</td>\n",
       "      <td>71.2833</td>\n",
       "      <td>C85</td>\n",
       "      <td>C</td>\n",
       "    </tr>\n",
       "    <tr>\n",
       "      <th>2</th>\n",
       "      <td>3</td>\n",
       "      <td>1</td>\n",
       "      <td>3</td>\n",
       "      <td>Heikkinen, Miss. Laina</td>\n",
       "      <td>female</td>\n",
       "      <td>26.0</td>\n",
       "      <td>0</td>\n",
       "      <td>0</td>\n",
       "      <td>STON/O2. 3101282</td>\n",
       "      <td>7.9250</td>\n",
       "      <td>NaN</td>\n",
       "      <td>S</td>\n",
       "    </tr>\n",
       "    <tr>\n",
       "      <th>3</th>\n",
       "      <td>4</td>\n",
       "      <td>1</td>\n",
       "      <td>1</td>\n",
       "      <td>Futrelle, Mrs. Jacques Heath (Lily May Peel)</td>\n",
       "      <td>female</td>\n",
       "      <td>35.0</td>\n",
       "      <td>1</td>\n",
       "      <td>0</td>\n",
       "      <td>113803</td>\n",
       "      <td>53.1000</td>\n",
       "      <td>C123</td>\n",
       "      <td>S</td>\n",
       "    </tr>\n",
       "    <tr>\n",
       "      <th>4</th>\n",
       "      <td>5</td>\n",
       "      <td>0</td>\n",
       "      <td>3</td>\n",
       "      <td>Allen, Mr. William Henry</td>\n",
       "      <td>male</td>\n",
       "      <td>35.0</td>\n",
       "      <td>0</td>\n",
       "      <td>0</td>\n",
       "      <td>373450</td>\n",
       "      <td>8.0500</td>\n",
       "      <td>NaN</td>\n",
       "      <td>S</td>\n",
       "    </tr>\n",
       "  </tbody>\n",
       "</table>\n",
       "</div>"
      ],
      "text/plain": [
       "   PassengerId  Survived  Pclass  \\\n",
       "0            1         0       3   \n",
       "1            2         1       1   \n",
       "2            3         1       3   \n",
       "3            4         1       1   \n",
       "4            5         0       3   \n",
       "\n",
       "                                                Name     Sex   Age  SibSp  \\\n",
       "0                            Braund, Mr. Owen Harris    male  22.0      1   \n",
       "1  Cumings, Mrs. John Bradley (Florence Briggs Th...  female  38.0      1   \n",
       "2                             Heikkinen, Miss. Laina  female  26.0      0   \n",
       "3       Futrelle, Mrs. Jacques Heath (Lily May Peel)  female  35.0      1   \n",
       "4                           Allen, Mr. William Henry    male  35.0      0   \n",
       "\n",
       "   Parch            Ticket     Fare Cabin Embarked  \n",
       "0      0         A/5 21171   7.2500   NaN        S  \n",
       "1      0          PC 17599  71.2833   C85        C  \n",
       "2      0  STON/O2. 3101282   7.9250   NaN        S  \n",
       "3      0            113803  53.1000  C123        S  \n",
       "4      0            373450   8.0500   NaN        S  "
      ]
     },
     "execution_count": 3,
     "metadata": {},
     "output_type": "execute_result"
    }
   ],
   "source": [
    "titanic_df.head()"
   ]
  },
  {
   "cell_type": "markdown",
   "metadata": {},
   "source": [
    "I loaded in the data and had a few questions:\n",
    "\n",
    "1) Is there any correlation between where passengers embarked and survival? Since 'embarked' is not a numeric value, we would need to group by embarked and then look at different survival rates.\n",
    "\n",
    "2) We could also look at embarkation and the fare or Pclass to see if there is a correlation between embarkation and socioeconomic status."
   ]
  },
  {
   "cell_type": "code",
   "execution_count": 89,
   "metadata": {},
   "outputs": [
    {
     "name": "stdout",
     "output_type": "stream",
     "text": [
      "The Pearson's R value for 'Survival' and 'Class' is -0.338481035961\n",
      "The Pearson's R value for 'Survival' and 'Fare' is 0.257306522385\n",
      "The Pearson's R value for 'Survival' and 'Parent/ Children' is 0.0816294070835\n",
      "The Pearson's R value for 'Survival' and 'Sibling/Spouse' is -0.0353224988857\n",
      "The Pearson's R value for 'Survival' and 'Age' is -0.0779826784139\n"
     ]
    }
   ],
   "source": [
    "# I'm going to use my Pearson's R correlation function to quickly check out the correlation between a few \\\n",
    "# of the numeric variables\n",
    "\n",
    "def correlation(x, y):\n",
    "    mean_x = x.mean()\n",
    "    mean_y = y.mean()\n",
    "    std_x = x.std(ddof=0)\n",
    "    std_y = y.std(ddof=0)\n",
    "    standardized_x = (x - mean_x) / std_x\n",
    "    standardized_y = (y - mean_y) / std_y\n",
    "    raw_correlation = standardized_x * standardized_y\n",
    "    correlation = raw_correlation.mean()\n",
    "    return (correlation)\n",
    "\n",
    "# x = pd.Series([1, 2, 3, 40])\n",
    "# y = pd.Series([10, 11, 12, 13])\n",
    "\n",
    "# print correlation(x, y). I'll do this for all numeric values as a first pass.\n",
    "\n",
    "survival = titanic_df['Survived']\n",
    "pclass = titanic_df['Pclass']\n",
    "fare = titanic_df['Fare']\n",
    "parent_children = titanic_df['Parch']\n",
    "sibling_spouse = titanic_df['SibSp']\n",
    "age = titanic_df['Age']\n",
    "\n",
    "print \"The Pearson's R value for 'Survival' and 'Class' is\", correlation(survival, pclass)\n",
    "print \"The Pearson's R value for 'Survival' and 'Fare' is\", correlation(survival, fare)\n",
    "print \"The Pearson's R value for 'Survival' and 'Parent/ Children' is\", correlation(survival, parent_children)\n",
    "print \"The Pearson's R value for 'Survival' and 'Sibling/Spouse' is\", correlation(survival, sibling_spouse)\n",
    "print \"The Pearson's R value for 'Survival' and 'Age' is\", correlation(survival, age)"
   ]
  },
  {
   "cell_type": "markdown",
   "metadata": {},
   "source": [
    "This output is roughly what one would expect. There is a 'moderate positive correlation'(Pearson's correlation = 0.3384) between survival and higher ticket class. Keep in mind that this correlation reads out as negative since lower ticket class means a higher numeric value associated with class (i.e. low class = 3, middle class = 2, and high class = 1). I have to decide if I want to deal with this discrepancy later. \n",
    "\n",
    "Additionally, I did a simple check to see if fare and pclass are correlated. As expected, they are reasonabley well correlated (Pearson's correlation of 0.5495) indicating that people in higher class paid a higher fare. Again, the correlation value is negative despite a positive correlation because of the numeric.\n",
    "\n",
    "Interestingly, there is minimal correlation with whether people had family on-board, either in the form of parent/child members or sibling/spouce members. This lack of correlation actually surprised me."
   ]
  },
  {
   "cell_type": "code",
   "execution_count": 95,
   "metadata": {},
   "outputs": [
    {
     "name": "stdout",
     "output_type": "stream",
     "text": [
      "The surviving fraction of all passengers on the titanic was 0.383838383838\n",
      "\n",
      "The surviving fraction of passengers by embarkation port is summarized below:\n",
      "  Embarked  Survived\n",
      "0        C  0.553571\n",
      "1        Q  0.389610\n",
      "2        S  0.336957\n",
      "\n",
      "The surviving fraction of passengers by sex is summarized below:\n",
      "      Sex  Survived\n",
      "0  female  0.742038\n",
      "1    male  0.188908\n"
     ]
    }
   ],
   "source": [
    "# Now I want to look at some non-numeric values as a first pass. The only ones that makes sense to me are 'Sex' and\\\n",
    "# 'Embarkation', since things like cabin number aren't very relevant. I'll do this by grouping by these values.\n",
    "\n",
    "\n",
    "# passengers_grouped_by_port = titanic_df.groupby('Embarked', as_index=False)\n",
    "# mean_survival = passengers_grouped_by_port['Survived'].mean()\n",
    "\n",
    "print \"The surviving fraction of all passengers on the titanic was\" , titanic_df['Survived'].mean()\n",
    "print \"\"\n",
    "print \"The surviving fraction of passengers by embarkation port is summarized below:\" \n",
    "print (titanic_df.groupby('Embarked', as_index=False))['Survived'].mean()\n",
    "print \"\"\n",
    "print \"The surviving fraction of passengers by sex is summarized below:\"\n",
    "print (titanic_df.groupby('Sex', as_index=False))['Survived'].mean()"
   ]
  },
  {
   "cell_type": "markdown",
   "metadata": {},
   "source": [
    "This is interersting. It looks like passengers who embarked at Cherbourg, France survived at a higher rate (55.4%) than those who embarked at Queenstown, Ireland (39.0%) or Southampton, England (33.7%). (this may be relevant later, but the route was Southampton, Cherbourg, then Queenstown.)\n",
    "\n",
    "Now I'm interested in looking at the socioeconomic factors at play.\n",
    "\n",
    "1) What is the average fare paid for the different ports? This data will be confounded by the fact that passengers would be paying for different lengths of journey. Looking at the distribution of class might be better.\n",
    "\n",
    "2) Are people from these different ports different 'types of travelers' in terms of family aboard or age?\n"
   ]
  },
  {
   "cell_type": "code",
   "execution_count": 31,
   "metadata": {},
   "outputs": [
    {
     "name": "stdout",
     "output_type": "stream",
     "text": [
      "The table below summarizes the mean class by port\n",
      "  Embarked    Pclass\n",
      "0        C  1.886905\n",
      "1        Q  2.909091\n",
      "2        S  2.350932\n",
      "\n",
      "The table below summarizes the mean fare by port\n",
      "  Embarked       Fare\n",
      "0        C  59.954144\n",
      "1        Q  13.276030\n",
      "2        S  27.079812\n"
     ]
    }
   ],
   "source": [
    "# Frist lets quickly look at the breakdown of ticket class by embarkation port. It's pretty clear that there are \\\n",
    "# differences in the passenger breakdown for thes ports.\n",
    "\n",
    "mean_class_by_port = passengers_grouped_by_port['Pclass'].mean()\n",
    "mean_fare_by_port = passengers_grouped_by_port['Fare'].mean()\n",
    "\n",
    "print \"The table below summarizes the mean class by port\"\n",
    "print mean_class_by_port\n",
    "print \"\"\n",
    "print \"The table below summarizes the mean fare by port\"\n",
    "print mean_fare_by_port"
   ]
  },
  {
   "cell_type": "code",
   "execution_count": 46,
   "metadata": {},
   "outputs": [
    {
     "name": "stdout",
     "output_type": "stream",
     "text": [
      "Populating the interactive namespace from numpy and matplotlib\n"
     ]
    },
    {
     "data": {
      "text/plain": [
       "<matplotlib.text.Text at 0x11621da50>"
      ]
     },
     "execution_count": 46,
     "metadata": {},
     "output_type": "execute_result"
    },
    {
     "data": {
      "image/png": "[encoded data removed]",
      "text/plain": [
       "<matplotlib.figure.Figure at 0x116ea9d90>"
      ]
     },
     "metadata": {},
     "output_type": "display_data"
    }
   ],
   "source": [
    "# Lets take a look at the questions above. I'd like to look at class distributions as a histogram. This seems \\\n",
    "# like an easy way to visualize the breakdowns\n",
    "\n",
    "### I can't figure out the axis labeling... I'm going to have to come back to this.\n",
    "\n",
    "%pylab inline\n",
    "\n",
    "import matplotlib.pyplot as plt\n",
    "import seaborn as sns\n",
    "\n",
    "titanic_df['Pclass'].hist(by=titanic_df['Embarked'], bins=3)\n",
    "plt.suptitle('Distribution of Ticket Class by Embarkation Port', x=0.5, y=1.05, ha='center', fontsize='x-large')"
   ]
  },
  {
   "cell_type": "code",
   "execution_count": 57,
   "metadata": {
    "scrolled": false
   },
   "outputs": [
    {
     "name": "stdout",
     "output_type": "stream",
     "text": [
      "   Embarked  Pclass     Sex  Survived\n",
      "0         C       1  female  0.976744\n",
      "1         C       1    male  0.404762\n",
      "2         C       2  female  1.000000\n",
      "3         C       2    male  0.200000\n",
      "4         C       3  female  0.652174\n",
      "5         C       3    male  0.232558\n",
      "6         Q       1  female  1.000000\n",
      "7         Q       1    male  0.000000\n",
      "8         Q       2  female  1.000000\n",
      "9         Q       2    male  0.000000\n",
      "10        Q       3  female  0.727273\n",
      "11        Q       3    male  0.076923\n",
      "12        S       1  female  0.958333\n",
      "13        S       1    male  0.354430\n",
      "14        S       2  female  0.910448\n",
      "15        S       2    male  0.154639\n",
      "16        S       3  female  0.375000\n",
      "17        S       3    male  0.128302\n",
      "                 Survived    Pclass        Age     SibSp     Parch\n",
      "Sex    Embarked                                                   \n",
      "female C         0.876712  1.726027  28.344262  0.547945  0.493151\n",
      "       Q         0.750000  2.888889  24.291667  0.222222  0.222222\n",
      "       S         0.689655  2.197044  27.771505  0.837438  0.788177\n",
      "male   C         0.305263  2.010526  32.998841  0.263158  0.263158\n",
      "       Q         0.073171  2.926829  30.937500  0.609756  0.121951\n",
      "       S         0.174603  2.421769  30.291440  0.448980  0.240363\n"
     ]
    }
   ],
   "source": [
    "# Hummm, let's see if the 3rd class passengers from the same class but different embarkation ports survived at \\\n",
    "# similar rates:\n",
    "\n",
    "# First let's look at gender and class. It looks like it's better to be a woman and better to be rich.\n",
    "passengers_grouped_by_sex_class = titanic_df.groupby(['Sex', 'Pclass'])\n",
    "# print passengers_grouped_by_sex['Survived'].mean()\n",
    "\n",
    "# Next let's see if this breakdown is similar for the different embarkation ports. Wow, it looks really bad to be\\\n",
    "# an Irish male regardless of class. Let's double check the data to see how many Irish men there were.\n",
    "passengers_grouped_by_port_grouped_by_class = titanic_df.groupby(['Embarked', 'Pclass', 'Sex'], as_index=False)\n",
    "print passengers_grouped_by_port_grouped_by_class['Survived'].mean()\n",
    "\n",
    "# Gender breakdowns by port. It certainly looks like Irish men fared very badly.\n",
    "\n",
    "passengers_grouped_by_sex_embarkation = titanic_df.groupby(['Sex','Embarked'])\n",
    "print passengers_grouped_by_sex_embarkation['Survived', 'Pclass', 'Age', 'SibSp','Parch'] .mean()"
   ]
  },
  {
   "cell_type": "code",
   "execution_count": 97,
   "metadata": {
    "scrolled": true
   },
   "outputs": [
    {
     "name": "stdout",
     "output_type": "stream",
     "text": [
      "Embarked  Sex     Pclass\n",
      "C         female  1          43\n",
      "                  2           7\n",
      "                  3          23\n",
      "          male    1          42\n",
      "                  2          10\n",
      "                  3          43\n",
      "Q         female  1           1\n",
      "                  2           2\n",
      "                  3          33\n",
      "          male    1           1\n",
      "                  2           1\n",
      "                  3          39\n",
      "S         female  1          48\n",
      "                  2          67\n",
      "                  3          88\n",
      "          male    1          79\n",
      "                  2          97\n",
      "                  3         265\n",
      "dtype: int64\n"
     ]
    }
   ],
   "source": [
    "# Seeing the 1 and 0's for the survival data made me suspicious, so I wanted to check the actual passenger numbers. \\\n",
    "# This isn't a huge data set so there could be really low sample numbers in these subsets.\n",
    "\n",
    "# As I expected, there are only 1 1st Class male and 1 2nd Class male departing from Queensland. Thus, while it is \\\n",
    "# still bad to be an Irish male, the data might reflect more of the socioeconomic trends than pure port of departure.\n",
    "\n",
    "print titanic_df.groupby(['Embarked','Sex','Pclass']).size()"
   ]
  },
  {
   "cell_type": "markdown",
   "metadata": {},
   "source": [
    "Wow, this data makes it very clear that 1) it's better to be a women, and 2) it's very bad to be an Irish man. A high status man departing from Queensland Ireland fared far worse than a high status man departing from Southampton or Cherbourg."
   ]
  },
  {
   "cell_type": "code",
   "execution_count": 56,
   "metadata": {},
   "outputs": [
    {
     "name": "stdout",
     "output_type": "stream",
     "text": [
      "-0.338481035961\n",
      "-0.549499619944\n"
     ]
    }
   ],
   "source": [
    "survival = titanic_df['Survived']\n",
    "pclass = titanic_df['Pclass']\n",
    "fare = titanic_df['Fare']\n",
    "\n",
    "print correlation(survival, pclass)\n",
    "print correlation(fare, pclass)"
   ]
  },
  {
   "cell_type": "code",
   "execution_count": 10,
   "metadata": {},
   "outputs": [
    {
     "name": "stdout",
     "output_type": "stream",
     "text": [
      "             SibSp     Parch        Age\n",
      "Embarked                               \n",
      "C         0.386905  0.363095  30.814769\n",
      "Q         0.428571  0.168831  28.089286\n",
      "S         0.571429  0.413043  29.445397\n",
      "          SibSp  Parch   Age\n",
      "Embarked                    \n",
      "C             2      3  71.0\n",
      "Q             4      5  70.5\n",
      "S             8      6  80.0\n",
      "          SibSp  Parch   Age\n",
      "Embarked                    \n",
      "C             0      0  0.42\n",
      "Q             0      0  2.00\n",
      "S             0      0  0.67\n"
     ]
    }
   ],
   "source": [
    "# Now let's look at passenger's family make up for the different ports\n",
    "\n",
    "print passengers_grouped_by_port['SibSp', 'Parch', 'Age'].mean()\n",
    "print passengers_grouped_by_port['SibSp', 'Parch', 'Age'].max()\n",
    "print passengers_grouped_by_port['SibSp', 'Parch', 'Age'].min()"
   ]
  },
  {
   "cell_type": "markdown",
   "metadata": {},
   "source": [
    "Poor people travel with siblings and spouses, and richer people are more likely to travel with parents and children. This doesn't tell us that much yet. Nearly all of the passengers were the same median age. Let's try looking at the gender breakdown of these classes. \n",
    "\n",
    "For example, were there more men traveling from Queensland? Perhaps these were economic migrants less likely to travel with children or parents."
   ]
  },
  {
   "cell_type": "code",
   "execution_count": null,
   "metadata": {
    "collapsed": true
   },
   "outputs": [],
   "source": [
    "# Let's try to get some counts here."
   ]
  },
  {
   "cell_type": "code",
   "execution_count": 11,
   "metadata": {},
   "outputs": [
    {
     "name": "stderr",
     "output_type": "stream",
     "text": [
      "/Users/jeff/anaconda/envs/DAND/lib/python2.7/site-packages/matplotlib/font_manager.py:273: UserWarning: Matplotlib is building the font cache using fc-list. This may take a moment.\n",
      "  warnings.warn('Matplotlib is building the font cache using fc-list. This may take a moment.')\n"
     ]
    },
    {
     "name": "stdout",
     "output_type": "stream",
     "text": [
      "Populating the interactive namespace from numpy and matplotlib\n"
     ]
    },
    {
     "ename": "NameError",
     "evalue": "name 'sns' is not defined",
     "output_type": "error",
     "traceback": [
      "\u001b[0;31m---------------------------------------------------------------------------\u001b[0m",
      "\u001b[0;31mNameError\u001b[0m                                 Traceback (most recent call last)",
      "\u001b[0;32m<ipython-input-11-f82ee040e104>\u001b[0m in \u001b[0;36m<module>\u001b[0;34m()\u001b[0m\n\u001b[1;32m      2\u001b[0m \u001b[0;34m\u001b[0m\u001b[0m\n\u001b[1;32m      3\u001b[0m \u001b[0;31m#Try this next time\u001b[0m\u001b[0;34m\u001b[0m\u001b[0;34m\u001b[0m\u001b[0m\n\u001b[0;32m----> 4\u001b[0;31m \u001b[0msns\u001b[0m\u001b[0;34m.\u001b[0m\u001b[0mcountplot\u001b[0m\u001b[0;34m(\u001b[0m\u001b[0mx\u001b[0m\u001b[0;34m=\u001b[0m\u001b[0;34m'age_group'\u001b[0m\u001b[0;34m,\u001b[0m \u001b[0mhue\u001b[0m\u001b[0;34m=\u001b[0m\u001b[0;34m'response'\u001b[0m\u001b[0;34m,\u001b[0m \u001b[0mdata\u001b[0m\u001b[0;34m=\u001b[0m\u001b[0mdf\u001b[0m\u001b[0;34m.\u001b[0m\u001b[0msort\u001b[0m\u001b[0;34m(\u001b[0m\u001b[0;34m\"response\"\u001b[0m\u001b[0;34m)\u001b[0m\u001b[0;34m,\u001b[0m \u001b[0mpalette\u001b[0m\u001b[0;34m=\u001b[0m\u001b[0;34m\"Greens_d\"\u001b[0m\u001b[0;34m)\u001b[0m\u001b[0;34m\u001b[0m\u001b[0m\n\u001b[0m\u001b[1;32m      5\u001b[0m \u001b[0mtitanic_df\u001b[0m\u001b[0;34m[\u001b[0m\u001b[0;34m'Sex'\u001b[0m\u001b[0;34m]\u001b[0m\u001b[0;34m.\u001b[0m\u001b[0mhist\u001b[0m\u001b[0;34m(\u001b[0m\u001b[0mby\u001b[0m\u001b[0;34m=\u001b[0m\u001b[0mtitanic_df\u001b[0m\u001b[0;34m[\u001b[0m\u001b[0;34m'Embarked'\u001b[0m\u001b[0;34m]\u001b[0m\u001b[0;34m,\u001b[0m \u001b[0mbins\u001b[0m\u001b[0;34m=\u001b[0m\u001b[0;36m2\u001b[0m\u001b[0;34m)\u001b[0m\u001b[0;34m\u001b[0m\u001b[0m\n",
      "\u001b[0;31mNameError\u001b[0m: name 'sns' is not defined"
     ]
    }
   ],
   "source": [
    "import matplotlib.pyplot as plt\n",
    "import numpy as np\n",
    "import seaborn as sns\n",
    "\n",
    "%pylab inline\n",
    "\n",
    "#Try this next time\n",
    "sns.countplot(x='age_group', hue='response', data=df.sort(\"response\"), palette=\"Greens_d\")\n",
    "titanic_df['Sex'].hist(by=titanic_df['Embarked'], bins=2)"
   ]
  },
  {
   "cell_type": "code",
   "execution_count": 142,
   "metadata": {},
   "outputs": [
    {
     "name": "stdout",
     "output_type": "stream",
     "text": [
      "  Embarked  PassengerId  Survived    Pclass        Age     SibSp     Parch  \\\n",
      "0        C   445.357143  0.553571  1.886905  30.814769  0.386905  0.363095   \n",
      "1        Q   417.896104  0.389610  2.909091  28.089286  0.428571  0.168831   \n",
      "2        S   449.527950  0.336957  2.350932  29.445397  0.571429  0.413043   \n",
      "\n",
      "        Fare  \n",
      "0  59.954144  \n",
      "1  13.276030  \n",
      "2  27.079812  \n"
     ]
    },
    {
     "ename": "TypeError",
     "evalue": "bar() takes at least 2 arguments (1 given)",
     "output_type": "error",
     "traceback": [
      "\u001b[0;31m---------------------------------------------------------------------------\u001b[0m",
      "\u001b[0;31mTypeError\u001b[0m                                 Traceback (most recent call last)",
      "\u001b[0;32m<ipython-input-142-9746e2899d91>\u001b[0m in \u001b[0;36m<module>\u001b[0;34m()\u001b[0m\n\u001b[1;32m      4\u001b[0m \u001b[0;32mprint\u001b[0m \u001b[0mpassengers_grouped_by_port_df\u001b[0m\u001b[0;34m.\u001b[0m\u001b[0mhead\u001b[0m\u001b[0;34m(\u001b[0m\u001b[0;34m)\u001b[0m\u001b[0;34m\u001b[0m\u001b[0m\n\u001b[1;32m      5\u001b[0m \u001b[0;34m\u001b[0m\u001b[0m\n\u001b[0;32m----> 6\u001b[0;31m \u001b[0mplt\u001b[0m\u001b[0;34m.\u001b[0m\u001b[0mbar\u001b[0m\u001b[0;34m(\u001b[0m\u001b[0mpassengers_grouped_by_port_df\u001b[0m\u001b[0;34m[\u001b[0m\u001b[0;34m'Survived'\u001b[0m\u001b[0;34m]\u001b[0m\u001b[0;34m)\u001b[0m\u001b[0;34m\u001b[0m\u001b[0m\n\u001b[0m",
      "\u001b[0;31mTypeError\u001b[0m: bar() takes at least 2 arguments (1 given)"
     ]
    }
   ],
   "source": [
    "# making a data frame out of a group by object!!! Use the reset_index() function\n",
    "\n",
    "passengers_grouped_by_port_df = titanic_df.groupby('Embarked').mean().reset_index()\n",
    "print passengers_grouped_by_port_df.head()\n",
    "\n",
    "plt.bar(passengers_grouped_by_port_df['Survived'])"
   ]
  },
  {
   "cell_type": "code",
   "execution_count": 104,
   "metadata": {},
   "outputs": [
    {
     "name": "stdout",
     "output_type": "stream",
     "text": [
      "False    723\n",
      "True     168\n",
      "Name: Embarked, dtype: int64\n",
      "True     644\n",
      "False    247\n",
      "Name: Embarked, dtype: int64\n",
      "False    814\n",
      "True      77\n",
      "Name: Embarked, dtype: int64\n"
     ]
    }
   ],
   "source": [
    "#I know that the numbers of passengers that embarked at each port is quite different. Thus, I want to calculate a \n",
    "\n",
    "unique_class = titanic_df.Pclass.unique()\n",
    "port_counts_C = (titanic_df[\"Embarked\"]=='C').value_counts()\n",
    "port_counts_S = (titanic_df[\"Embarked\"]=='S').value_counts()\n",
    "port_counts_Q = (titanic_df[\"Embarked\"]=='Q').value_counts()\n",
    "\n",
    "print port_counts_C\n",
    "print port_counts_S\n",
    "print port_counts_Q"
   ]
  },
  {
   "cell_type": "code",
   "execution_count": 131,
   "metadata": {},
   "outputs": [
    {
     "data": {
      "text/html": [
       "<div>\n",
       "<table border=\"1\" class=\"dataframe\">\n",
       "  <thead>\n",
       "    <tr style=\"text-align: right;\">\n",
       "      <th></th>\n",
       "      <th>Embarked</th>\n",
       "      <th>Pclass</th>\n",
       "      <th>Sex</th>\n",
       "      <th>Survived</th>\n",
       "      <th>Parch</th>\n",
       "      <th>SibSp</th>\n",
       "    </tr>\n",
       "  </thead>\n",
       "  <tbody>\n",
       "    <tr>\n",
       "      <th>0</th>\n",
       "      <td>S</td>\n",
       "      <td>3</td>\n",
       "      <td>male</td>\n",
       "      <td>0</td>\n",
       "      <td>0</td>\n",
       "      <td>1</td>\n",
       "    </tr>\n",
       "    <tr>\n",
       "      <th>1</th>\n",
       "      <td>C</td>\n",
       "      <td>1</td>\n",
       "      <td>female</td>\n",
       "      <td>1</td>\n",
       "      <td>0</td>\n",
       "      <td>1</td>\n",
       "    </tr>\n",
       "    <tr>\n",
       "      <th>2</th>\n",
       "      <td>S</td>\n",
       "      <td>3</td>\n",
       "      <td>female</td>\n",
       "      <td>1</td>\n",
       "      <td>0</td>\n",
       "      <td>0</td>\n",
       "    </tr>\n",
       "    <tr>\n",
       "      <th>3</th>\n",
       "      <td>S</td>\n",
       "      <td>1</td>\n",
       "      <td>female</td>\n",
       "      <td>1</td>\n",
       "      <td>0</td>\n",
       "      <td>1</td>\n",
       "    </tr>\n",
       "    <tr>\n",
       "      <th>4</th>\n",
       "      <td>S</td>\n",
       "      <td>3</td>\n",
       "      <td>male</td>\n",
       "      <td>0</td>\n",
       "      <td>0</td>\n",
       "      <td>0</td>\n",
       "    </tr>\n",
       "  </tbody>\n",
       "</table>\n",
       "</div>"
      ],
      "text/plain": [
       "  Embarked  Pclass     Sex  Survived  Parch  SibSp\n",
       "0        S       3    male         0      0      1\n",
       "1        C       1  female         1      0      1\n",
       "2        S       3  female         1      0      0\n",
       "3        S       1  female         1      0      1\n",
       "4        S       3    male         0      0      0"
      ]
     },
     "execution_count": 131,
     "metadata": {},
     "output_type": "execute_result"
    }
   ],
   "source": [
    "new_data_frame = titanic_df[['Embarked', 'Pclass', 'Sex', 'Survived', 'Parch', 'SibSp']].copy()\n",
    "\n",
    "# def norm_column(df,column):\n",
    "#     column_unique = df[column].unique()\n",
    "#     for i in column_unique:\n",
    "#         count = df[column].value_counts()\n",
    "#         norm_count = 1/count\n",
    "#     norm_data_frame = new_data_frame + norm_count\n",
    "#     return norm_data_frame\n",
    "    \n",
    "# print norm_column(new_data_frame, 'Embarked').head()\n",
    "new_data_frame.head()"
   ]
  },
  {
   "cell_type": "code",
   "execution_count": 141,
   "metadata": {},
   "outputs": [
    {
     "data": {
      "text/html": [
       "<div>\n",
       "<table border=\"1\" class=\"dataframe\">\n",
       "  <thead>\n",
       "    <tr style=\"text-align: right;\">\n",
       "      <th></th>\n",
       "      <th></th>\n",
       "      <th></th>\n",
       "      <th>Parch</th>\n",
       "      <th>Pclass</th>\n",
       "      <th>Sex</th>\n",
       "      <th>SibSp</th>\n",
       "      <th>Survived</th>\n",
       "    </tr>\n",
       "    <tr>\n",
       "      <th>Embarked</th>\n",
       "      <th>Sex</th>\n",
       "      <th>Survived</th>\n",
       "      <th></th>\n",
       "      <th></th>\n",
       "      <th></th>\n",
       "      <th></th>\n",
       "      <th></th>\n",
       "    </tr>\n",
       "  </thead>\n",
       "  <tbody>\n",
       "    <tr>\n",
       "      <th rowspan=\"4\" valign=\"top\">C</th>\n",
       "      <th rowspan=\"2\" valign=\"top\">female</th>\n",
       "      <th>0</th>\n",
       "      <td>0.053571</td>\n",
       "      <td>0.053571</td>\n",
       "      <td>NaN</td>\n",
       "      <td>0.053571</td>\n",
       "      <td>NaN</td>\n",
       "    </tr>\n",
       "    <tr>\n",
       "      <th>1</th>\n",
       "      <td>0.380952</td>\n",
       "      <td>0.380952</td>\n",
       "      <td>NaN</td>\n",
       "      <td>0.380952</td>\n",
       "      <td>NaN</td>\n",
       "    </tr>\n",
       "    <tr>\n",
       "      <th rowspan=\"2\" valign=\"top\">male</th>\n",
       "      <th>0</th>\n",
       "      <td>0.392857</td>\n",
       "      <td>0.392857</td>\n",
       "      <td>NaN</td>\n",
       "      <td>0.392857</td>\n",
       "      <td>NaN</td>\n",
       "    </tr>\n",
       "    <tr>\n",
       "      <th>1</th>\n",
       "      <td>0.172619</td>\n",
       "      <td>0.172619</td>\n",
       "      <td>NaN</td>\n",
       "      <td>0.172619</td>\n",
       "      <td>NaN</td>\n",
       "    </tr>\n",
       "    <tr>\n",
       "      <th rowspan=\"4\" valign=\"top\">Q</th>\n",
       "      <th rowspan=\"2\" valign=\"top\">female</th>\n",
       "      <th>0</th>\n",
       "      <td>0.116883</td>\n",
       "      <td>0.116883</td>\n",
       "      <td>NaN</td>\n",
       "      <td>0.116883</td>\n",
       "      <td>NaN</td>\n",
       "    </tr>\n",
       "    <tr>\n",
       "      <th>1</th>\n",
       "      <td>0.350649</td>\n",
       "      <td>0.350649</td>\n",
       "      <td>NaN</td>\n",
       "      <td>0.350649</td>\n",
       "      <td>NaN</td>\n",
       "    </tr>\n",
       "    <tr>\n",
       "      <th rowspan=\"2\" valign=\"top\">male</th>\n",
       "      <th>0</th>\n",
       "      <td>0.493506</td>\n",
       "      <td>0.493506</td>\n",
       "      <td>NaN</td>\n",
       "      <td>0.493506</td>\n",
       "      <td>NaN</td>\n",
       "    </tr>\n",
       "    <tr>\n",
       "      <th>1</th>\n",
       "      <td>0.038961</td>\n",
       "      <td>0.038961</td>\n",
       "      <td>NaN</td>\n",
       "      <td>0.038961</td>\n",
       "      <td>NaN</td>\n",
       "    </tr>\n",
       "    <tr>\n",
       "      <th rowspan=\"4\" valign=\"top\">S</th>\n",
       "      <th rowspan=\"2\" valign=\"top\">female</th>\n",
       "      <th>0</th>\n",
       "      <td>0.097826</td>\n",
       "      <td>0.097826</td>\n",
       "      <td>NaN</td>\n",
       "      <td>0.097826</td>\n",
       "      <td>NaN</td>\n",
       "    </tr>\n",
       "    <tr>\n",
       "      <th>1</th>\n",
       "      <td>0.217391</td>\n",
       "      <td>0.217391</td>\n",
       "      <td>NaN</td>\n",
       "      <td>0.217391</td>\n",
       "      <td>NaN</td>\n",
       "    </tr>\n",
       "    <tr>\n",
       "      <th rowspan=\"2\" valign=\"top\">male</th>\n",
       "      <th>0</th>\n",
       "      <td>0.565217</td>\n",
       "      <td>0.565217</td>\n",
       "      <td>NaN</td>\n",
       "      <td>0.565217</td>\n",
       "      <td>NaN</td>\n",
       "    </tr>\n",
       "    <tr>\n",
       "      <th>1</th>\n",
       "      <td>0.119565</td>\n",
       "      <td>0.119565</td>\n",
       "      <td>NaN</td>\n",
       "      <td>0.119565</td>\n",
       "      <td>NaN</td>\n",
       "    </tr>\n",
       "  </tbody>\n",
       "</table>\n",
       "</div>"
      ],
      "text/plain": [
       "                             Parch    Pclass  Sex     SibSp  Survived\n",
       "Embarked Sex    Survived                                             \n",
       "C        female 0         0.053571  0.053571  NaN  0.053571       NaN\n",
       "                1         0.380952  0.380952  NaN  0.380952       NaN\n",
       "         male   0         0.392857  0.392857  NaN  0.392857       NaN\n",
       "                1         0.172619  0.172619  NaN  0.172619       NaN\n",
       "Q        female 0         0.116883  0.116883  NaN  0.116883       NaN\n",
       "                1         0.350649  0.350649  NaN  0.350649       NaN\n",
       "         male   0         0.493506  0.493506  NaN  0.493506       NaN\n",
       "                1         0.038961  0.038961  NaN  0.038961       NaN\n",
       "S        female 0         0.097826  0.097826  NaN  0.097826       NaN\n",
       "                1         0.217391  0.217391  NaN  0.217391       NaN\n",
       "         male   0         0.565217  0.565217  NaN  0.565217       NaN\n",
       "                1         0.119565  0.119565  NaN  0.119565       NaN"
      ]
     },
     "execution_count": 141,
     "metadata": {},
     "output_type": "execute_result"
    }
   ],
   "source": [
    "new_data_frame.groupby(['Embarked','Sex','Survived']).count() / new_data_frame.groupby(['Embarked']).count()"
   ]
  },
  {
   "cell_type": "code",
   "execution_count": 140,
   "metadata": {},
   "outputs": [
    {
     "data": {
      "text/html": [
       "<div>\n",
       "<table border=\"1\" class=\"dataframe\">\n",
       "  <thead>\n",
       "    <tr style=\"text-align: right;\">\n",
       "      <th></th>\n",
       "      <th></th>\n",
       "      <th>Pclass</th>\n",
       "      <th>Survived</th>\n",
       "      <th>Parch</th>\n",
       "      <th>SibSp</th>\n",
       "    </tr>\n",
       "    <tr>\n",
       "      <th>Embarked</th>\n",
       "      <th>Sex</th>\n",
       "      <th></th>\n",
       "      <th></th>\n",
       "      <th></th>\n",
       "      <th></th>\n",
       "    </tr>\n",
       "  </thead>\n",
       "  <tbody>\n",
       "    <tr>\n",
       "      <th rowspan=\"2\" valign=\"top\">C</th>\n",
       "      <th>female</th>\n",
       "      <td>73</td>\n",
       "      <td>73</td>\n",
       "      <td>73</td>\n",
       "      <td>73</td>\n",
       "    </tr>\n",
       "    <tr>\n",
       "      <th>male</th>\n",
       "      <td>95</td>\n",
       "      <td>95</td>\n",
       "      <td>95</td>\n",
       "      <td>95</td>\n",
       "    </tr>\n",
       "    <tr>\n",
       "      <th rowspan=\"2\" valign=\"top\">Q</th>\n",
       "      <th>female</th>\n",
       "      <td>36</td>\n",
       "      <td>36</td>\n",
       "      <td>36</td>\n",
       "      <td>36</td>\n",
       "    </tr>\n",
       "    <tr>\n",
       "      <th>male</th>\n",
       "      <td>41</td>\n",
       "      <td>41</td>\n",
       "      <td>41</td>\n",
       "      <td>41</td>\n",
       "    </tr>\n",
       "    <tr>\n",
       "      <th rowspan=\"2\" valign=\"top\">S</th>\n",
       "      <th>female</th>\n",
       "      <td>203</td>\n",
       "      <td>203</td>\n",
       "      <td>203</td>\n",
       "      <td>203</td>\n",
       "    </tr>\n",
       "    <tr>\n",
       "      <th>male</th>\n",
       "      <td>441</td>\n",
       "      <td>441</td>\n",
       "      <td>441</td>\n",
       "      <td>441</td>\n",
       "    </tr>\n",
       "  </tbody>\n",
       "</table>\n",
       "</div>"
      ],
      "text/plain": [
       "                 Pclass  Survived  Parch  SibSp\n",
       "Embarked Sex                                   \n",
       "C        female      73        73     73     73\n",
       "         male        95        95     95     95\n",
       "Q        female      36        36     36     36\n",
       "         male        41        41     41     41\n",
       "S        female     203       203    203    203\n",
       "         male       441       441    441    441"
      ]
     },
     "execution_count": 140,
     "metadata": {},
     "output_type": "execute_result"
    }
   ],
   "source": [
    "new_data_frame.groupby(['Embarked','Sex']).count()"
   ]
  },
  {
   "cell_type": "code",
   "execution_count": null,
   "metadata": {
    "collapsed": true
   },
   "outputs": [],
   "source": []
  }
 ],
 "metadata": {
  "kernelspec": {
   "display_name": "Python [conda env:DAND]",
   "language": "python",
   "name": "conda-env-DAND-py"
  },
  "language_info": {
   "codemirror_mode": {
    "name": "ipython",
    "version": 2
   },
   "file_extension": ".py",
   "mimetype": "text/x-python",
   "name": "python",
   "nbconvert_exporter": "python",
   "pygments_lexer": "ipython2",
   "version": "2.7.12"
  }
 },
 "nbformat": 4,
 "nbformat_minor": 2
}
